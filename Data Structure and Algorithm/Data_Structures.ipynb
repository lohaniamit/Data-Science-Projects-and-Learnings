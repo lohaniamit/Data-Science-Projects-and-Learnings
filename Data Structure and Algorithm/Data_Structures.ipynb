{
 "cells": [
  {
   "cell_type": "markdown",
   "metadata": {},
   "source": [
    "### Stacks"
   ]
  },
  {
   "cell_type": "code",
   "execution_count": 41,
   "metadata": {},
   "outputs": [],
   "source": [
    "# How to implement stack in python\n",
    "\n",
    "#lets create a list\n",
    "\n",
    "def create_stack():\n",
    "    stack=[]\n",
    "    print('empty stack is created')\n",
    "    return stack\n",
    "\n",
    "#check if stack is empty\n",
    "def check_empty(stack):\n",
    "    if len(stack)>=1:\n",
    "        length_of_stack=f'length of stack is:{ len(stack)}'\n",
    "        return length_of_stack\n",
    "    else:\n",
    "        return 'stack is empty'\n",
    "\n",
    "# display stack\n",
    "def display_stack(stack):\n",
    "    stack_rev=stack[::-1]\n",
    "    for every in stack_rev:\n",
    "        print(f'{every}\\n__')\n",
    "\n",
    "# add element\n",
    "def push_element(stack,item):\n",
    "    stack.append(str(item))\n",
    "    print(f'element {item} has been added to the stack')\n",
    "\n",
    "#remove element\n",
    "def remove_top(stack):\n",
    "    if len(stack)>=1:\n",
    "        return stack.pop()\n",
    "    else:\n",
    "        return 'stack is empty'\n"
   ]
  },
  {
   "cell_type": "markdown",
   "metadata": {},
   "source": []
  },
  {
   "cell_type": "code",
   "execution_count": 34,
   "metadata": {},
   "outputs": [
    {
     "name": "stdout",
     "output_type": "stream",
     "text": [
      "empty stack is created\n"
     ]
    }
   ],
   "source": [
    "st=create_stack()"
   ]
  },
  {
   "cell_type": "code",
   "execution_count": 35,
   "metadata": {},
   "outputs": [
    {
     "name": "stdout",
     "output_type": "stream",
     "text": [
      "element 1 has been added to the stack\n",
      "element 2 has been added to the stack\n",
      "element 3 has been added to the stack\n",
      "element 4 has been added to the stack\n"
     ]
    }
   ],
   "source": [
    "push_element(st,1)\n",
    "push_element(st,2)\n",
    "push_element(st,3)\n",
    "push_element(st,4)\n"
   ]
  },
  {
   "cell_type": "code",
   "execution_count": 36,
   "metadata": {},
   "outputs": [
    {
     "data": {
      "text/plain": [
       "'length of stack is:4'"
      ]
     },
     "execution_count": 36,
     "metadata": {},
     "output_type": "execute_result"
    }
   ],
   "source": [
    "check_empty(st)"
   ]
  },
  {
   "cell_type": "code",
   "execution_count": 37,
   "metadata": {},
   "outputs": [
    {
     "data": {
      "text/plain": [
       "'4'"
      ]
     },
     "execution_count": 37,
     "metadata": {},
     "output_type": "execute_result"
    }
   ],
   "source": [
    "remove_top(st)"
   ]
  },
  {
   "cell_type": "code",
   "execution_count": 42,
   "metadata": {},
   "outputs": [
    {
     "name": "stdout",
     "output_type": "stream",
     "text": [
      "3\n",
      "__\n",
      "2\n",
      "__\n",
      "1\n",
      "__\n"
     ]
    }
   ],
   "source": [
    "display_stack(st)"
   ]
  },
  {
   "cell_type": "code",
   "execution_count": null,
   "metadata": {},
   "outputs": [],
   "source": []
  }
 ],
 "metadata": {
  "kernelspec": {
   "display_name": "Python 3.9.12 ('project_env')",
   "language": "python",
   "name": "python3"
  },
  "language_info": {
   "codemirror_mode": {
    "name": "ipython",
    "version": 3
   },
   "file_extension": ".py",
   "mimetype": "text/x-python",
   "name": "python",
   "nbconvert_exporter": "python",
   "pygments_lexer": "ipython3",
   "version": "3.9.12"
  },
  "orig_nbformat": 4,
  "vscode": {
   "interpreter": {
    "hash": "baf22f34c0166265a59ef3517cc3f81cdef50f83e3c16fcdab1b75063f94ec95"
   }
  }
 },
 "nbformat": 4,
 "nbformat_minor": 2
}
